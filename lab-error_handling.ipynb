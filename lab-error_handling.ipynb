{
 "cells": [
  {
   "cell_type": "markdown",
   "metadata": {},
   "source": [
    "# LAB | Error Handling in Python\n",
    "\n",
    "## Overview\n",
    "This exercise notebook will help you practice error handling in Python using exceptions. You will write programs that handle various types of exceptions to ensure your code runs smoothly and handles errors gracefully."
   ]
  },
  {
   "cell_type": "markdown",
   "metadata": {},
   "source": [
    "### Exercise 1: Handle ZeroDivisionError\n",
    "Write a Python program to handle a `ZeroDivisionError` exception when dividing a number by zero.\n"
   ]
  },
  {
   "cell_type": "code",
   "execution_count": 43,
   "metadata": {},
   "outputs": [
    {
     "name": "stdout",
     "output_type": "stream",
     "text": [
      "Not possible to divide by 0\n"
     ]
    }
   ],
   "source": [
    "def division(a, b):\n",
    "    \n",
    "    try:\n",
    "        result = a/b\n",
    "    \n",
    "    except ZeroDivisionError:\n",
    "        result = print(\"Not possible to divide by 0\")\n",
    "        \n",
    "\n",
    "    return result\n",
    "\n",
    "division(4,0)"
   ]
  },
  {
   "cell_type": "markdown",
   "metadata": {},
   "source": [
    "\n",
    "### Exercise 2: Raise ValueError for Invalid Input\n",
    "Write a Python program that prompts the user to input an integer and raises a `ValueError` exception if the input is not a valid integer.\n",
    "\n"
   ]
  },
  {
   "cell_type": "code",
   "execution_count": 52,
   "metadata": {},
   "outputs": [
    {
     "name": "stdout",
     "output_type": "stream",
     "text": [
      "'re' is not a valid integer.\n"
     ]
    }
   ],
   "source": [
    "def get_valid_integer():\n",
    "   \n",
    "    user_input = input(\"Please enter an integer: \")\n",
    "\n",
    "    try:\n",
    "        value = float(int(user_input))\n",
    "        return value\n",
    "    except ValueError:\n",
    "        print(f\"'{user_input}' is not a valid integer.\")\n",
    "\n",
    "get_valid_integer()\n"
   ]
  },
  {
   "cell_type": "markdown",
   "metadata": {},
   "source": [
    "\n",
    "\n",
    "### Exercise 3: Handle FileNotFoundError\n",
    "Write a Python program that opens a file and handles a `FileNotFoundError` exception if the file does not exist.\n",
    "\n"
   ]
  },
  {
   "cell_type": "code",
   "execution_count": 45,
   "metadata": {},
   "outputs": [
    {
     "name": "stdout",
     "output_type": "stream",
     "text": [
      "No file found in the following location ../data/58585-0.txt\n"
     ]
    }
   ],
   "source": [
    "from functools import reduce\n",
    "import numpy\n",
    "import pandas\n",
    "\n",
    "def file_not_found():\n",
    "\n",
    "    location = '../data/58585-0.txt'\n",
    "    \n",
    "    try:\n",
    "        with open(location, 'r', encoding=\"utf8\") as f:\n",
    "            prophet = f.read().split(' ')\n",
    "            return prophet\n",
    "    \n",
    "    except FileNotFoundError:\n",
    "        print(\"No file found in the following location\", location)\n",
    "    \n",
    "file_not_found()"
   ]
  },
  {
   "cell_type": "markdown",
   "metadata": {},
   "source": [
    "\n",
    "\n",
    "### Exercise 4: Raise TypeError for Non-Numerical Input\n",
    "Write a Python program that prompts the user to input two numbers and raises a `TypeError` exception if the inputs are not numerical.\n",
    "\n"
   ]
  },
  {
   "cell_type": "code",
   "execution_count": 46,
   "metadata": {},
   "outputs": [
    {
     "name": "stdout",
     "output_type": "stream",
     "text": [
      "Values entered are not numerical\n"
     ]
    }
   ],
   "source": [
    "def non_num_input():\n",
    "    a = input(\"Please, enter a numerical value: \")\n",
    "    b = input(\"Please, enter another numerical value: \")\n",
    "\n",
    "    try:\n",
    "        if not (a.isnumeric() and b.isnumeric()):\n",
    "            raise TypeError(\"Values entered are not numerical\")\n",
    "        return \"Both inputs are numerical\"\n",
    "        \n",
    "    except TypeError as e:\n",
    "        print(e)\n",
    "\n",
    "non_num_input()"
   ]
  },
  {
   "cell_type": "markdown",
   "metadata": {},
   "source": [
    "\n",
    "\n",
    "### Exercise 5: Handle PermissionError\n",
    "Write a Python program that opens a file and handles a `PermissionError` exception if there is a permission issue.\n",
    "\n",
    "\n"
   ]
  },
  {
   "cell_type": "code",
   "execution_count": 47,
   "metadata": {},
   "outputs": [
    {
     "name": "stdout",
     "output_type": "stream",
     "text": [
      "Error: You do not have permission to access the file 'README.md'.\n",
      "Please check the file's permissions or try running the program with elevated privileges.\n"
     ]
    }
   ],
   "source": [
    "def handle_permission_error():\n",
    "    import os\n",
    "    from stat import S_IREAD, S_IRGRP, S_IROTH\n",
    "\n",
    "    filename = \"README.md\"\n",
    "    os.chmod(filename, S_IREAD|S_IRGRP|S_IROTH)\n",
    "\n",
    "    try:\n",
    "        with open(filename, \"w\") as file: \n",
    "            file.write(\"Testing permission error handling.\")\n",
    "    except PermissionError:\n",
    "        print(f\"Error: You do not have permission to access the file '{filename}'.\")\n",
    "        print(\"Please check the file's permissions or try running the program with elevated privileges.\")\n",
    "\n",
    "handle_permission_error()"
   ]
  },
  {
   "cell_type": "markdown",
   "metadata": {},
   "source": [
    "\n",
    "\n",
    "### Exercise 6: Handle IndexError in List Operations\n",
    "Write a Python program that executes an operation on a list and handles an `IndexError` exception if the index is out of range.\n",
    "\n",
    "\n"
   ]
  },
  {
   "cell_type": "code",
   "execution_count": 48,
   "metadata": {},
   "outputs": [
    {
     "name": "stdout",
     "output_type": "stream",
     "text": [
      "Index is out of range.\n"
     ]
    },
    {
     "data": {
      "text/plain": [
       "('The result is', 7)"
      ]
     },
     "execution_count": 48,
     "metadata": {},
     "output_type": "execute_result"
    }
   ],
   "source": [
    "def index_err(ind):\n",
    "    list = [1, 2, 22, 7]\n",
    "\n",
    "    try:\n",
    "        value = list[ind]\n",
    "        return \"The result is\",value\n",
    "    except IndexError:\n",
    "        print(\"Index is out of range.\")\n",
    "\n",
    "index_err(4)\n",
    "index_err(3)"
   ]
  },
  {
   "cell_type": "markdown",
   "metadata": {},
   "source": [
    "\n",
    "\n",
    "### Exercise 7: Handle KeyboardInterrupt Exception\n",
    "Write a Python program that prompts the user to input a number and handles a `KeyboardInterrupt` exception if the user cancels the input.\n",
    "\n"
   ]
  },
  {
   "cell_type": "code",
   "execution_count": 49,
   "metadata": {},
   "outputs": [
    {
     "name": "stdout",
     "output_type": "stream",
     "text": [
      "w\n"
     ]
    }
   ],
   "source": [
    "def keyboard_interrupt_handling():\n",
    "    value = input(\"Please enter a value: \")\n",
    "\n",
    "    try:\n",
    "        print(value)\n",
    "\n",
    "    except KeyboardInterrupt:\n",
    "        print(\"User has cancelled the input\")\n",
    "\n",
    "keyboard_interrupt_handling()"
   ]
  },
  {
   "cell_type": "markdown",
   "metadata": {},
   "source": [
    "\n",
    "\n",
    "### Exercise 8: Handle ArithmeticError\n",
    "Write a Python program that executes division and handles an `ArithmeticError` exception if there is an arithmetic error.\n",
    "\n"
   ]
  },
  {
   "cell_type": "code",
   "execution_count": 50,
   "metadata": {},
   "outputs": [
    {
     "data": {
      "text/plain": [
       "4.0"
      ]
     },
     "execution_count": 50,
     "metadata": {},
     "output_type": "execute_result"
    }
   ],
   "source": [
    "def division(a, b):\n",
    "    \n",
    "    try:\n",
    "        if b == 0:\n",
    "            raise ArithmeticError(\"Not possible to divide by 0.\")\n",
    "        return a/b\n",
    "    \n",
    "    except ArithmeticError as e:\n",
    "        print(e)\n",
    "\n",
    "division(4,1)"
   ]
  },
  {
   "cell_type": "markdown",
   "metadata": {},
   "source": [
    "\n",
    "\n",
    "### Exercise 9: Handle UnicodeDecodeError\n",
    "Write a Python program that opens a file and handles a `UnicodeDecodeError` exception if there is an encoding issue.\n",
    "\n"
   ]
  },
  {
   "cell_type": "code",
   "execution_count": 51,
   "metadata": {},
   "outputs": [
    {
     "name": "stdout",
     "output_type": "stream",
     "text": [
      "Error: Unable to decode the file 'README.md' with UTF-8 encoding.\n",
      "Please check the file's encoding and try again.\n"
     ]
    }
   ],
   "source": [
    "def handle_unicode_decode_error():\n",
    "    file_path = \"README.md\"  # Replace with the path to your file\n",
    "\n",
    "    try:\n",
    "        with open(file_path, \"r\", encoding=\"utf-16\") as file:\n",
    "            content = file.read()\n",
    "            print(content)\n",
    "    except UnicodeDecodeError:\n",
    "        print(f\"Error: Unable to decode the file '{file_path}' with UTF-8 encoding.\")\n",
    "        print(\"Please check the file's encoding and try again.\")\n",
    "\n",
    "handle_unicode_decode_error()"
   ]
  },
  {
   "cell_type": "markdown",
   "metadata": {},
   "source": [
    "\n",
    "\n",
    "### Exercise 10: Handle AttributeError\n",
    "Write a Python program that executes an operation on an object and handles an `AttributeError` exception if the attribute does not exist.\n",
    "\n"
   ]
  },
  {
   "cell_type": "code",
   "execution_count": null,
   "metadata": {},
   "outputs": [
    {
     "name": "stdout",
     "output_type": "stream",
     "text": [
      "'Car' object has no attribute 'speed'.\n"
     ]
    }
   ],
   "source": [
    "def class_attr():\n",
    "    class Car:\n",
    "        def __init__(self, colour):\n",
    "            self.colour = colour\n",
    "\n",
    "    opel = Car(\"red\")\n",
    "\n",
    "    try: \n",
    "        speed = opel.speed\n",
    "        return speed\n",
    "    except AttributeError:\n",
    "        print(\"'Car' object has no attribute 'speed'.\")\n",
    "\n",
    "class_attr()"
   ]
  },
  {
   "cell_type": "markdown",
   "metadata": {},
   "source": [
    "\n",
    "\n",
    "## Bonus Exercises\n",
    "\n",
    "### Bonus Exercise 1: Handle Multiple Exceptions\n",
    "Write a Python program that demonstrates handling multiple exceptions in one block.\n",
    "\n",
    "\n"
   ]
  },
  {
   "cell_type": "code",
   "execution_count": null,
   "metadata": {},
   "outputs": [],
   "source": [
    "# Your code here"
   ]
  },
  {
   "cell_type": "markdown",
   "metadata": {},
   "source": [
    "\n",
    "\n",
    "### Bonus Exercise 2: Create Custom Exception\n",
    "Create a custom exception class and raise it in your code when certain conditions are met.\n",
    "\n",
    "\n"
   ]
  },
  {
   "cell_type": "code",
   "execution_count": null,
   "metadata": {},
   "outputs": [],
   "source": [
    "# Your code here"
   ]
  },
  {
   "cell_type": "markdown",
   "metadata": {},
   "source": [
    "\n",
    "\n",
    "### Bonus Exercise 3: Validate User Input with Exception Handling\n",
    "Write a program that repeatedly prompts the user for valid input until they provide it, using exception handling to manage invalid inputs.\n",
    "\n"
   ]
  },
  {
   "cell_type": "code",
   "execution_count": null,
   "metadata": {},
   "outputs": [],
   "source": [
    "# Your code here"
   ]
  },
  {
   "cell_type": "markdown",
   "metadata": {},
   "source": [
    "\n",
    "\n",
    "### Bonus Exercise 4: Log Errors to File\n",
    "Modify your error handling to log errors to a text file instead of printing them to the console.\n",
    "\n"
   ]
  },
  {
   "cell_type": "code",
   "execution_count": null,
   "metadata": {},
   "outputs": [],
   "source": [
    "# Your code here"
   ]
  },
  {
   "cell_type": "markdown",
   "metadata": {},
   "source": [
    "\n",
    "\n",
    "### Bonus Exercise 5: Retry Logic on Exception\n",
    "Implement retry logic for operations that could fail, allowing users to try again after encountering an error.\n",
    "\n"
   ]
  },
  {
   "cell_type": "code",
   "execution_count": null,
   "metadata": {},
   "outputs": [],
   "source": [
    "# Your code here"
   ]
  }
 ],
 "metadata": {
  "kernelspec": {
   "display_name": "Python 3",
   "language": "python",
   "name": "python3"
  },
  "language_info": {
   "codemirror_mode": {
    "name": "ipython",
    "version": 3
   },
   "file_extension": ".py",
   "mimetype": "text/x-python",
   "name": "python",
   "nbconvert_exporter": "python",
   "pygments_lexer": "ipython3",
   "version": "3.13.3"
  }
 },
 "nbformat": 4,
 "nbformat_minor": 2
}
